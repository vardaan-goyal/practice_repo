{
  "nbformat": 4,
  "nbformat_minor": 0,
  "metadata": {
    "colab": {
      "name": "Week2_PythonProgramming_Homework.ipynb",
      "version": "0.3.2",
      "provenance": []
    },
    "kernelspec": {
      "name": "python3",
      "display_name": "Python 3"
    }
  },
  "cells": [
    {
      "cell_type": "code",
      "metadata": {
        "id": "Rj9WBWEJnwae",
        "colab_type": "code",
        "outputId": "38570065-b431-4d1a-aa22-51179e6306d4",
        "colab": {
          "base_uri": "https://localhost:8080/",
          "height": 479
        }
      },
      "source": [
        "print (\"Variables and types\")\n",
        "# Assign an int to a variable with name x and print its type.\n",
        "x=5\n",
        "print(x)\n",
        "\n",
        "# Assign a new value with string type to the same varaible x and print its type\n",
        "x=\"HelloWorld\"\n",
        "print(x)\n",
        "\n",
        "# Print the value of a variable that has not been defined, see what error do you get:\n",
        "#  print(y)\n",
        "\n"
      ],
      "execution_count": 0,
      "outputs": [
        {
          "output_type": "stream",
          "text": [
            "Variables and types\n",
            "5\n",
            "HelloWorld\n",
            "3\n",
            "-1\n",
            "2\n",
            "0.5\n",
            "2.5\n",
            "32768\n",
            "32768\n",
            "3\n",
            "3.0\n",
            "3.0\n",
            "3.0\n",
            "False\n",
            "True\n",
            "False\n",
            "False\n",
            "True\n",
            "False\n",
            "True\n",
            "True\n",
            "True\n",
            "False\n",
            "True\n"
          ],
          "name": "stdout"
        }
      ]
    },
    {
      "cell_type": "code",
      "metadata": {
        "id": "DsB6PT324AfX",
        "colab_type": "code",
        "colab": {
          "base_uri": "https://localhost:8080/",
          "height": 422
        },
        "outputId": "fd9324b0-f3f4-4ce3-a673-7eed3ec89a7e"
      },
      "source": [
        "print (\"Operators and comparisons\")\n",
        "\n",
        "# Print the sum, difference, mutplication, and divison between 1 and 2.\n",
        "print(1+2)\n",
        "print(1-2)\n",
        "print(1*2)\n",
        "print(1/2)\n",
        "\n",
        "\n",
        "# Carry out Interger division of two float numbers\n",
        "print(5.0/2.0)\n",
        "\n",
        "# What is the value of 2 Power 15?\n",
        "print (2**15)\n",
        "print (pow (2,15))\n",
        "\n",
        "# Are the types of 1+2 and 1.0+2 the same?\n",
        "print (1+2)\n",
        "print (1.0+2)\n",
        "print (1+2.0)\n",
        "print (1+2.00)\n",
        "\n",
        "\n",
        "# The boolean operators are spelled out as the words and, not, or.\n",
        "# Comparison operators >, <, >= (greater or equal), <= (less or equal), == equality, is identical.\n",
        "# Compare two boolean True and False\n",
        "print(4==3)\n",
        "print (4>3)\n",
        "print (2>3)\n",
        "print (3 < 5 and  15 < 10)\n",
        "print (3 < 5 or  15 < 10)\n",
        "print (3 > 5 or  15 < 10)\n",
        "\n",
        "# Use False to get True\n",
        "print (3 != 5)\n",
        "\n",
        "# Inclue both False and True in your code to get True\n",
        "print (3 < 5 or  15 < 10)\n",
        "\n",
        "# Use two different ways: == and is to check if l1 and l2 is identical.\n",
        "l1 = [1, 2]\n",
        "l2 = [1, 2.0]\n",
        "l3 = l2\n",
        "print (l1 == l2)\n",
        "print (l1 is l2) # returns False because l1 is not the same object as l2, even if they have thew same content\n",
        "print (l2 is l3)\n",
        "\n",
        "\n"
      ],
      "execution_count": 1,
      "outputs": [
        {
          "output_type": "stream",
          "text": [
            "Operators and comparisons\n",
            "3\n",
            "-1\n",
            "2\n",
            "0.5\n",
            "2.5\n",
            "32768\n",
            "32768\n",
            "3\n",
            "3.0\n",
            "3.0\n",
            "3.0\n",
            "False\n",
            "True\n",
            "False\n",
            "False\n",
            "True\n",
            "False\n",
            "True\n",
            "True\n",
            "True\n",
            "False\n",
            "True\n"
          ],
          "name": "stdout"
        }
      ]
    },
    {
      "cell_type": "code",
      "metadata": {
        "id": "cfbKUSnx0jrj",
        "colab_type": "code",
        "outputId": "ed06056e-85b0-49b4-8982-d062cc66c69a",
        "colab": {
          "base_uri": "https://localhost:8080/",
          "height": 196
        }
      },
      "source": [
        "print(\"strings\")\n",
        "# Strings\n",
        "#Strings are the variables type that is used for storing text messages.\n",
        "#Create three string variables, and use one print to display all three variables.\n",
        "\n",
        "a=\"A\"\n",
        "b=\"B\"\n",
        "c=\"C\"\n",
        "print(a,b,c)\n",
        "\n",
        "# Check the length of \"Hello world!\".\n",
        "d=\"Hello world!\"\n",
        "print (len(d))\n",
        "\n",
        "# Get the index 0character in a string.\n",
        "print (d[0])\n",
        "\n",
        "# Get the first 3 characters in a string. print (d[0],d[1],d[2])\n",
        "print (d[0:3])\n",
        "\n",
        "# Use a start index and a stop index to get the fifth character in a string.\n",
        "s = \"Red Ventures\"\n",
        "print (s[4:5])\n",
        "print (s[4])\n",
        "\n",
        "# Get the last character in a string.\n",
        "s = \"Charlotte\"\n",
        "print (s[(len(s)-1)])\n",
        "print (s[-1])"
      ],
      "execution_count": 0,
      "outputs": [
        {
          "output_type": "stream",
          "text": [
            "strings\n",
            "A B C\n",
            "12\n",
            "H\n",
            "Hel\n",
            "V\n",
            "V\n",
            "e\n",
            "e\n"
          ],
          "name": "stdout"
        }
      ]
    },
    {
      "cell_type": "code",
      "metadata": {
        "id": "jANO31mk4yxB",
        "colab_type": "code",
        "outputId": "860ff14f-63c6-4b8d-ac0f-0fb7cf363359",
        "colab": {
          "base_uri": "https://localhost:8080/",
          "height": 212
        }
      },
      "source": [
        "print(\"Escape characters\")\n",
        "#In Python strings, the backslash \"\\\" is a special character, also called the \"escape\" character. It is used in representing certain whitespace characters: \"\\t\" is a tab, \"\\n\" is a newline, and \"\\r\" is a carriage return. Conversely, prefixing a special character with \"\\\" turns it into an ordinary character.\n",
        "#Print out the following strings:\n",
        "#'    Everything is written in pencil.'\n",
        "#'Everything is written\n",
        "# in pencil.'\n",
        "\n",
        "#'Everything \\ is written \\ in pencil.'\n",
        "\n",
        "#'Red Ventures brands, just list a few:\n",
        "#   * Bankrate\n",
        "#   * Reviews.com\n",
        "#   * the Points Guy\n",
        "#   * creditcards.com'\n",
        "x=\" \"\n",
        "print(\"\\tEverything is written in pencil.\")\n",
        "print(4*x+\"Everything is written in pencil.\")\n",
        "print(\"Everything is written\\nin pencil.\")\n",
        "print(\"Everything \\\\ is written \\\\ in pencil.\")\n",
        "\n",
        "print(\"Red Ventures brands, just list a few:\\n\"+2*x+\"* Bankrate\\n\"+2*x+\"* Reviews.com\\n\"+2*x+\"* the Points Guy\\n\"+2*x+\"* creditcards.com\")\n"
      ],
      "execution_count": 0,
      "outputs": [
        {
          "output_type": "stream",
          "text": [
            "Escape characters\n",
            "\tEverything is written in pencil.\n",
            "    Everything is written in pencil.\n",
            "Everything is written\n",
            "in pencil.\n",
            "Everything \\ is written \\ in pencil.\n",
            "Red Ventures brands, just list a few:\n",
            "  * Bankrate\n",
            "  * Reviews.com\n",
            "  * the Points Guy\n",
            "  * creditcards.com\n"
          ],
          "name": "stdout"
        }
      ]
    },
    {
      "cell_type": "code",
      "metadata": {
        "id": "eebT49OC93KK",
        "colab_type": "code",
        "outputId": "ea929cb1-4a5b-4cb6-f7c4-bbc89d3a8772",
        "colab": {
          "base_uri": "https://localhost:8080/",
          "height": 105
        }
      },
      "source": [
        "print(\"String methods\")\n",
        "#Here are some of the most common string methods. A method is like a function, but it runs \"on\" an object. If the variable s is a string, then the code s.lower() runs the lower() method on that string object and returns the result (this idea of a method running on an object is one of the basic ideas that make up Object Oriented Programming, OOP). Here are some of the most common string methods:\n",
        "#lower(), upper(), strip(), isdigit(), startswith(), endswith(), find(), replace(), split(), join()\n",
        "#Documentation\n",
        "\n",
        "# Convert all letters to lower cases.\n",
        "s = 'RED FISH'\n",
        "print(s.lower())\n",
        "\n",
        "# Check if string starts with r\n",
        "s = 'Run Up Escalators'\n",
        "print (s.startswith(\"r\"))\n",
        "print (s.startswith(\"R\"))\n",
        "\n",
        "# Find the index of the single quote.\n",
        "s = \"You don't have to lie.\"\n",
        "print(s.find(\"\\'\"))\n"
      ],
      "execution_count": 0,
      "outputs": [
        {
          "output_type": "stream",
          "text": [
            "String methods\n",
            "red fish\n",
            "False\n",
            "True\n",
            "7\n"
          ],
          "name": "stdout"
        }
      ]
    },
    {
      "cell_type": "code",
      "metadata": {
        "id": "CGAThmoC_uPT",
        "colab_type": "code",
        "outputId": "5de64d02-ac5e-42a5-8c26-ba17dc49434f",
        "colab": {
          "base_uri": "https://localhost:8080/",
          "height": 264
        }
      },
      "source": [
        "print(\"Type casting\")\n",
        "#The process of converting the value of one data type to another is called type casting or type conversion.\n",
        "\n",
        "#Cast variable z to int and print its type.\n",
        "z=int(5)\n",
        "y = 6\n",
        "print(z)\n",
        "print(type(z))\n",
        "print(type(y))\n",
        "\n",
        "# Are the types of 1 + 2 and 1.0 + 2 the same?\n",
        "x = 1+2\n",
        "y = 1.0 + 2\n",
        "print(type(x),type(y))\n",
        "print(type(x)==type(y))\n",
        "\n",
        "# Add num_int and num_str, you should provide two outputs. One is a string and the other is an int.\n",
        "num_int = 123\n",
        "num_str = \"456\"\n",
        "print(str(num_int)+num_str)\n",
        "print(num_int+int(num_str))\n",
        "\n",
        "# What happends if you cast -1 to a boolean?\n",
        "print(bool(-1))\n",
        "print(bool(\"-1\"))\n",
        "print(bool(\"\"))\n",
        "print(bool(0))\n",
        "\n",
        "\n",
        "# Practical use of bool\n",
        "\n",
        "def check(num): \n",
        "    return(bool(num%2==0)) \n",
        "# Driver Code \n",
        "num = 7; \n",
        "if(check(num)): \n",
        "    print(\"Even\") \n",
        "else: \n",
        "    print(\"Odd\") \n"
      ],
      "execution_count": 0,
      "outputs": [
        {
          "output_type": "stream",
          "text": [
            "Type casting\n",
            "5\n",
            "<class 'int'>\n",
            "<class 'int'>\n",
            "<class 'int'> <class 'float'>\n",
            "False\n",
            "123456\n",
            "579\n",
            "True\n",
            "True\n",
            "False\n",
            "False\n",
            "1\n",
            "Odd\n"
          ],
          "name": "stdout"
        }
      ]
    },
    {
      "cell_type": "code",
      "metadata": {
        "id": "xrEOUYFaF4oI",
        "colab_type": "code",
        "outputId": "0ae6bd20-6dc0-493c-c481-bd04faa768b8",
        "colab": {
          "base_uri": "https://localhost:8080/",
          "height": 124
        }
      },
      "source": [
        "print(\"Standard Library\")\n",
        "#Python’s standard library is very extensive, offering a wide range of facilities. The library contains built-in modules (written in C) that provide access to system functionality as well as modules written in Python that provide standardized solutions for many problems that occur in everyday programming.\n",
        "#For example, the math module gives access to the underlying C library functions for floating point math.\n",
        "\n",
        "#Import math module and calcualte e^4\n",
        "import math\n",
        "print(math.e)\n",
        "print(math.exp(4))\n",
        "print(math.e*math.e*math.e*math.e)\n",
        "\n",
        "# Calculate the value of log2(8)\n",
        "print(math.log2(8))\n",
        "\n",
        "# Calculate the value of \\sqrt{100}\n",
        "print(math.sqrt(100))\n"
      ],
      "execution_count": 0,
      "outputs": [
        {
          "output_type": "stream",
          "text": [
            "Standard Library\n",
            "2.718281828459045\n",
            "54.598150033144236\n",
            "54.59815003314423\n",
            "3.0\n",
            "10.0\n"
          ],
          "name": "stdout"
        }
      ]
    }
  ]
}